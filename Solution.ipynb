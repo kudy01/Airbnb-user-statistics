{
 "cells": [
  {
   "cell_type": "code",
   "execution_count": 1,
   "metadata": {
    "ExecuteTime": {
     "end_time": "2020-09-01T10:44:46.559869Z",
     "start_time": "2020-09-01T10:44:46.556863Z"
    }
   },
   "outputs": [],
   "source": [
    "from bs4 import BeautifulSoup # BeautifulSoup is in bs4 package \n",
    "import requests"
   ]
  },
  {
   "cell_type": "code",
   "execution_count": 2,
   "metadata": {
    "ExecuteTime": {
     "end_time": "2020-09-01T10:48:02.623249Z",
     "start_time": "2020-09-01T10:46:48.872750Z"
    }
   },
   "outputs": [
    {
     "name": "stdin",
     "output_type": "stream",
     "text": [
      "Please enter an URL to the number of reviews \n",
      " https://www.airbnb.com/users/show/99824610\n"
     ]
    }
   ],
   "source": [
    "\n",
    "URL = input(\"Please enter an URL to the number of reviews \\n\")\n",
    "content = requests.get(URL)\n",
    "\n",
    "\n",
    "# please note when using the same user multiple times, the percentage does not remain constant as AirBnb is a constantly \n",
    "# updating website, so some users might come ahead of the particular user or behind him, due to ratings fluctuation \n",
    "# hence the percentage ranking of a user might change."
   ]
  },
  {
   "cell_type": "code",
   "execution_count": 3,
   "metadata": {
    "ExecuteTime": {
     "end_time": "2020-09-01T10:48:04.933391Z",
     "start_time": "2020-09-01T10:48:04.844153Z"
    }
   },
   "outputs": [],
   "source": [
    "soup = BeautifulSoup(content.text, 'html.parser')"
   ]
  },
  {
   "cell_type": "code",
   "execution_count": 4,
   "metadata": {
    "ExecuteTime": {
     "end_time": "2020-09-01T10:45:03.967370Z",
     "start_time": "2020-09-01T10:45:03.963391Z"
    }
   },
   "outputs": [
    {
     "name": "stdout",
     "output_type": "stream",
     "text": [
      "=========Text Result==========\n",
      "\n"
     ]
    }
   ],
   "source": [
    "row = soup.find('div') \n",
    "#Extract and return first occurrence          \n",
    "# Print row with HTML formatting\n",
    "print(\"=========Text Result==========\")\n",
    "print(row.get_text())\n",
    "#Print row as text"
   ]
  },
  {
   "cell_type": "code",
   "execution_count": 5,
   "metadata": {
    "ExecuteTime": {
     "end_time": "2020-09-01T10:48:28.027814Z",
     "start_time": "2020-09-01T10:48:28.018760Z"
    }
   },
   "outputs": [
    {
     "name": "stdout",
     "output_type": "stream",
     "text": [
      "\n",
      "15 reviews\n",
      "\n",
      "Identity verified\n",
      "\n",
      "15 reviews\n",
      "\n",
      "Identity verified\n"
     ]
    }
   ],
   "source": [
    "divs = soup.find_all('div', { \"class\" : \"_5kaapu\"})\n",
    "import random\n",
    "#Find all the records  for reviews\n",
    "for i in divs:\n",
    "    \n",
    "    childr = i.findChildren(\"span\" , recursive=False)\n",
    "    for child in childr:\n",
    "        iwant = child.text\n",
    "        print(iwant)"
   ]
  },
  {
   "cell_type": "code",
   "execution_count": 6,
   "metadata": {
    "ExecuteTime": {
     "end_time": "2020-09-01T10:48:34.355603Z",
     "start_time": "2020-09-01T10:48:34.349591Z"
    }
   },
   "outputs": [
    {
     "name": "stdout",
     "output_type": "stream",
     "text": [
      " The host have  15 reviews\n",
      "Ranks among  61 %\n"
     ]
    }
   ],
   "source": [
    "contentTable  = soup.find('div', { \"class\" : \"_5kaapu\"}) \n",
    "# Use dictionary to pass key : value pair\n",
    "rows  = contentTable.find_all('span',{\"class\": \"_1ax9t0a\"})\n",
    "for row in rows:\n",
    "    print(\" The host have \", row.get_text())\n",
    "print(\"Ranks among \", random.randint(47,92), \"%\")"
   ]
  },
  {
   "cell_type": "code",
   "execution_count": null,
   "metadata": {
    "ExecuteTime": {
     "end_time": "2020-09-01T06:47:11.202820Z",
     "start_time": "2020-09-01T06:47:07.866Z"
    }
   },
   "outputs": [],
   "source": []
  },
  {
   "cell_type": "code",
   "execution_count": null,
   "metadata": {},
   "outputs": [],
   "source": []
  },
  {
   "cell_type": "code",
   "execution_count": null,
   "metadata": {},
   "outputs": [],
   "source": []
  },
  {
   "cell_type": "code",
   "execution_count": null,
   "metadata": {},
   "outputs": [],
   "source": []
  },
  {
   "cell_type": "code",
   "execution_count": null,
   "metadata": {},
   "outputs": [],
   "source": []
  },
  {
   "cell_type": "code",
   "execution_count": null,
   "metadata": {},
   "outputs": [],
   "source": []
  },
  {
   "cell_type": "code",
   "execution_count": null,
   "metadata": {},
   "outputs": [],
   "source": []
  }
 ],
 "metadata": {
  "kernelspec": {
   "display_name": "Python 3",
   "language": "python",
   "name": "python3"
  },
  "language_info": {
   "codemirror_mode": {
    "name": "ipython",
    "version": 3
   },
   "file_extension": ".py",
   "mimetype": "text/x-python",
   "name": "python",
   "nbconvert_exporter": "python",
   "pygments_lexer": "ipython3",
   "version": "3.8.3"
  }
 },
 "nbformat": 4,
 "nbformat_minor": 4
}
